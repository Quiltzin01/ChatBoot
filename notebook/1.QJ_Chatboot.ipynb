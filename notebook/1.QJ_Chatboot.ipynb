{
 "cells": [
  {
   "cell_type": "code",
   "execution_count": 1,
   "metadata": {},
   "outputs": [],
   "source": [
    "import pandas as pd"
   ]
  },
  {
   "cell_type": "code",
   "execution_count": 2,
   "metadata": {},
   "outputs": [
    {
     "data": {
      "application/vnd.microsoft.datawrangler.viewer.v0+json": {
       "columns": [
        {
         "name": "index",
         "rawType": "int64",
         "type": "integer"
        },
        {
         "name": "Familia",
         "rawType": "object",
         "type": "string"
        },
        {
         "name": "Especie",
         "rawType": "object",
         "type": "string"
        },
        {
         "name": "Autor",
         "rawType": "object",
         "type": "string"
        },
        {
         "name": "Estados con ese uso",
         "rawType": "object",
         "type": "string"
        },
        {
         "name": "Estados con algún uso",
         "rawType": "object",
         "type": "string"
        },
        {
         "name": "Zona Norte",
         "rawType": "object",
         "type": "string"
        },
        {
         "name": "Zona Centro",
         "rawType": "object",
         "type": "string"
        },
        {
         "name": "Zona Sur",
         "rawType": "object",
         "type": "string"
        }
       ],
       "conversionMethod": "pd.DataFrame",
       "ref": "26687079-5a1d-4e9c-bbd1-02c22bc7a16b",
       "rows": [
        [
         "0",
         "Acanthaceae",
         "Aphelandra aurantiaca",
         "(Scheidw.) Lindl.",
         "VER",
         "VER",
         "'-",
         "s",
         "'-"
        ],
        [
         "1",
         "Acanthaceae",
         "Aphelandra scabra",
         "(Vahl) Sm.",
         "ROO VER YUC",
         "CHP OAX ROO VER YUC",
         "'-",
         "s",
         "s"
        ],
        [
         "2",
         "Acanthaceae",
         "Avicennia germinans",
         "(L.) L.",
         "OAX VER",
         "NAY OAX ROO TAB VER YUC",
         "s",
         "s",
         "s"
        ],
        [
         "3",
         "Acanthaceae",
         "Barleria oenotheroides",
         "Dum.Cours.",
         "OAX",
         "OAX",
         "'-",
         "'-",
         "s"
        ],
        [
         "4",
         "Acanthaceae",
         "Dianthera breviflora",
         "(Nees) Hemsl.",
         "CHP OAX",
         "CHP OAX",
         "'-",
         "'-",
         "s"
        ]
       ],
       "shape": {
        "columns": 8,
        "rows": 5
       }
      },
      "text/html": [
       "<div>\n",
       "<style scoped>\n",
       "    .dataframe tbody tr th:only-of-type {\n",
       "        vertical-align: middle;\n",
       "    }\n",
       "\n",
       "    .dataframe tbody tr th {\n",
       "        vertical-align: top;\n",
       "    }\n",
       "\n",
       "    .dataframe thead th {\n",
       "        text-align: right;\n",
       "    }\n",
       "</style>\n",
       "<table border=\"1\" class=\"dataframe\">\n",
       "  <thead>\n",
       "    <tr style=\"text-align: right;\">\n",
       "      <th></th>\n",
       "      <th>Familia</th>\n",
       "      <th>Especie</th>\n",
       "      <th>Autor</th>\n",
       "      <th>Estados con ese uso</th>\n",
       "      <th>Estados con algún uso</th>\n",
       "      <th>Zona Norte</th>\n",
       "      <th>Zona Centro</th>\n",
       "      <th>Zona Sur</th>\n",
       "    </tr>\n",
       "  </thead>\n",
       "  <tbody>\n",
       "    <tr>\n",
       "      <th>0</th>\n",
       "      <td>Acanthaceae</td>\n",
       "      <td>Aphelandra aurantiaca</td>\n",
       "      <td>(Scheidw.) Lindl.</td>\n",
       "      <td>VER</td>\n",
       "      <td>VER</td>\n",
       "      <td>'-</td>\n",
       "      <td>s</td>\n",
       "      <td>'-</td>\n",
       "    </tr>\n",
       "    <tr>\n",
       "      <th>1</th>\n",
       "      <td>Acanthaceae</td>\n",
       "      <td>Aphelandra scabra</td>\n",
       "      <td>(Vahl) Sm.</td>\n",
       "      <td>ROO VER YUC</td>\n",
       "      <td>CHP OAX ROO VER YUC</td>\n",
       "      <td>'-</td>\n",
       "      <td>s</td>\n",
       "      <td>s</td>\n",
       "    </tr>\n",
       "    <tr>\n",
       "      <th>2</th>\n",
       "      <td>Acanthaceae</td>\n",
       "      <td>Avicennia germinans</td>\n",
       "      <td>(L.) L.</td>\n",
       "      <td>OAX VER</td>\n",
       "      <td>NAY OAX ROO TAB VER YUC</td>\n",
       "      <td>s</td>\n",
       "      <td>s</td>\n",
       "      <td>s</td>\n",
       "    </tr>\n",
       "    <tr>\n",
       "      <th>3</th>\n",
       "      <td>Acanthaceae</td>\n",
       "      <td>Barleria oenotheroides</td>\n",
       "      <td>Dum.Cours.</td>\n",
       "      <td>OAX</td>\n",
       "      <td>OAX</td>\n",
       "      <td>'-</td>\n",
       "      <td>'-</td>\n",
       "      <td>s</td>\n",
       "    </tr>\n",
       "    <tr>\n",
       "      <th>4</th>\n",
       "      <td>Acanthaceae</td>\n",
       "      <td>Dianthera breviflora</td>\n",
       "      <td>(Nees) Hemsl.</td>\n",
       "      <td>CHP OAX</td>\n",
       "      <td>CHP OAX</td>\n",
       "      <td>'-</td>\n",
       "      <td>'-</td>\n",
       "      <td>s</td>\n",
       "    </tr>\n",
       "  </tbody>\n",
       "</table>\n",
       "</div>"
      ],
      "text/plain": [
       "       Familia                 Especie              Autor Estados con ese uso  \\\n",
       "0  Acanthaceae   Aphelandra aurantiaca  (Scheidw.) Lindl.                 VER   \n",
       "1  Acanthaceae       Aphelandra scabra         (Vahl) Sm.         ROO VER YUC   \n",
       "2  Acanthaceae     Avicennia germinans            (L.) L.             OAX VER   \n",
       "3  Acanthaceae  Barleria oenotheroides         Dum.Cours.                 OAX   \n",
       "4  Acanthaceae    Dianthera breviflora      (Nees) Hemsl.             CHP OAX   \n",
       "\n",
       "     Estados con algún uso Zona Norte Zona Centro Zona Sur  \n",
       "0                      VER         '-           s       '-  \n",
       "1      CHP OAX ROO VER YUC         '-           s        s  \n",
       "2  NAY OAX ROO TAB VER YUC          s           s        s  \n",
       "3                      OAX         '-          '-        s  \n",
       "4                  CHP OAX         '-          '-        s  "
      ]
     },
     "execution_count": 2,
     "metadata": {},
     "output_type": "execute_result"
    }
   ],
   "source": [
    "df = pd.read_csv(\"../data/Medicinal.csv\")\n",
    "df.head()"
   ]
  },
  {
   "cell_type": "code",
   "execution_count": 3,
   "metadata": {},
   "outputs": [
    {
     "data": {
      "text/plain": [
       "<bound method DataFrame.info of           Familia                 Especie              Autor  \\\n",
       "0     Acanthaceae   Aphelandra aurantiaca  (Scheidw.) Lindl.   \n",
       "1     Acanthaceae       Aphelandra scabra         (Vahl) Sm.   \n",
       "2     Acanthaceae     Avicennia germinans            (L.) L.   \n",
       "3     Acanthaceae  Barleria oenotheroides         Dum.Cours.   \n",
       "4     Acanthaceae    Dianthera breviflora      (Nees) Hemsl.   \n",
       "..            ...                     ...                ...   \n",
       "95  Anacardiaceae      Cyrtocarpa procera              Kunth   \n",
       "96  Anacardiaceae        Mangifera indica                 L.   \n",
       "97  Anacardiaceae        Metopium brownei       (Jacq.) Urb.   \n",
       "98  Anacardiaceae       Pistacia mexicana              Kunth   \n",
       "99  Anacardiaceae        Rhus chondroloma            Standl.   \n",
       "\n",
       "        Estados con ese uso                Estados con algún uso Zona Norte  \\\n",
       "0                       VER                                  VER         '-   \n",
       "1               ROO VER YUC                  CHP OAX ROO VER YUC         '-   \n",
       "2                   OAX VER              NAY OAX ROO TAB VER YUC          s   \n",
       "3                       OAX                                  OAX         '-   \n",
       "4                   CHP OAX                              CHP OAX         '-   \n",
       "..                      ...                                  ...        ...   \n",
       "95  GRO JAL MIC MOR NAY PUE          GRO JAL MIC MOR NAY OAX PUE          s   \n",
       "96              OAX VER YUC  CHP GRO MIC MOR NAY OAX TAB VER YUC          s   \n",
       "97                      ROO                              CAM ROO         '-   \n",
       "98                  CHP OAX                      CHP GRO MIC OAX         '-   \n",
       "99                      OAX                                  OAX         '-   \n",
       "\n",
       "   Zona Centro Zona Sur  \n",
       "0            s       '-  \n",
       "1            s        s  \n",
       "2            s        s  \n",
       "3           '-        s  \n",
       "4           '-        s  \n",
       "..         ...      ...  \n",
       "95           s        s  \n",
       "96           s        s  \n",
       "97          '-        s  \n",
       "98           s        s  \n",
       "99          '-        s  \n",
       "\n",
       "[100 rows x 8 columns]>"
      ]
     },
     "execution_count": 3,
     "metadata": {},
     "output_type": "execute_result"
    }
   ],
   "source": [
    "df.info"
   ]
  },
  {
   "cell_type": "code",
   "execution_count": 4,
   "metadata": {},
   "outputs": [
    {
     "name": "stdout",
     "output_type": "stream",
     "text": [
      "<class 'pandas.core.frame.DataFrame'>\n",
      "RangeIndex: 100 entries, 0 to 99\n",
      "Data columns (total 8 columns):\n",
      " #   Column                 Non-Null Count  Dtype \n",
      "---  ------                 --------------  ----- \n",
      " 0   Familia                100 non-null    object\n",
      " 1   Especie                100 non-null    object\n",
      " 2   Autor                  100 non-null    object\n",
      " 3   Estados con ese uso    100 non-null    object\n",
      " 4   Estados con algún uso  100 non-null    object\n",
      " 5   Zona Norte             100 non-null    object\n",
      " 6   Zona Centro            100 non-null    object\n",
      " 7   Zona Sur               100 non-null    object\n",
      "dtypes: object(8)\n",
      "memory usage: 6.4+ KB\n"
     ]
    }
   ],
   "source": [
    "df.info()"
   ]
  },
  {
   "cell_type": "code",
   "execution_count": 5,
   "metadata": {},
   "outputs": [],
   "source": [
    "df.fillna(df.mean, inplace=True)"
   ]
  },
  {
   "cell_type": "code",
   "execution_count": 6,
   "metadata": {},
   "outputs": [],
   "source": [
    "df_processed = pd.get_dummies(df)"
   ]
  },
  {
   "cell_type": "code",
   "execution_count": 7,
   "metadata": {},
   "outputs": [
    {
     "name": "stdout",
     "output_type": "stream",
     "text": [
      "<class 'pandas.core.frame.DataFrame'>\n",
      "RangeIndex: 100 entries, 0 to 99\n",
      "Columns: 295 entries, Familia_Acanthaceae to Zona Sur_s\n",
      "dtypes: bool(295)\n",
      "memory usage: 28.9 KB\n"
     ]
    }
   ],
   "source": [
    "df_processed.info()"
   ]
  },
  {
   "cell_type": "code",
   "execution_count": 8,
   "metadata": {},
   "outputs": [],
   "source": [
    "df.columns = df.columns.str.strip()  # Elimina espacios en nombres de columna"
   ]
  },
  {
   "cell_type": "code",
   "execution_count": 10,
   "metadata": {},
   "outputs": [],
   "source": [
    "df['Especie'] = df['Especie'].str.lower().str.strip()"
   ]
  },
  {
   "cell_type": "code",
   "execution_count": 11,
   "metadata": {},
   "outputs": [
    {
     "ename": "",
     "evalue": "",
     "output_type": "error",
     "traceback": [
      "\u001b[1;31mNo se puede ejecutar el código, la sesión se ha eliminado. Intente reiniciar el kernel."
     ]
    },
    {
     "ename": "",
     "evalue": "",
     "output_type": "error",
     "traceback": [
      "\u001b[1;31mNo se puede ejecutar el código, la sesión se ha eliminado. Intente reiniciar el kernel. \n",
      "\u001b[1;31mVea el [registro] de Jupyter (command:jupyter.viewOutput) para obtener más detalles."
     ]
    }
   ],
   "source": [
    "planta = input(\"Ingresa el nombre de una planta (especie): \").lower().strip()"
   ]
  },
  {
   "cell_type": "code",
   "execution_count": null,
   "metadata": {},
   "outputs": [],
   "source": [
    "resultado = df[df['Especie'] == planta]"
   ]
  },
  {
   "cell_type": "code",
   "execution_count": null,
   "metadata": {},
   "outputs": [],
   "source": [
    "if not resultado.empty:\n",
    "    for idx, column in resultado.iterrows():\n",
    "        print(f\"Familia: {column['Familia']}, Estado: {column['Estados con ese uso']}\")\n",
    "else:\n",
    "    print(\"La planta no fue encontrada en la base de datos.\")"
   ]
  },
  {
   "cell_type": "code",
   "execution_count": null,
   "metadata": {},
   "outputs": [],
   "source": []
  }
 ],
 "metadata": {
  "kernelspec": {
   "display_name": "marista",
   "language": "python",
   "name": "python3"
  },
  "language_info": {
   "codemirror_mode": {
    "name": "ipython",
    "version": 3
   },
   "file_extension": ".py",
   "mimetype": "text/x-python",
   "name": "python",
   "nbconvert_exporter": "python",
   "pygments_lexer": "ipython3",
   "version": "3.10.16"
  }
 },
 "nbformat": 4,
 "nbformat_minor": 2
}
